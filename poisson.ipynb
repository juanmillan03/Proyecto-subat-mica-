{
 "cells": [
  {
   "cell_type": "code",
   "execution_count": 2,
   "metadata": {},
   "outputs": [],
   "source": [
    "import numpy as np\n",
    "import matplotlib.pyplot as plt\n",
    "import random as rn\n",
    "from scipy import integrate\n",
    "from numba import njit\n",
    "import scipy.stats as stats\n"
   ]
  },
  {
   "cell_type": "code",
   "execution_count": 3,
   "metadata": {},
   "outputs": [
    {
     "name": "stdout",
     "output_type": "stream",
     "text": [
      "gamma = 0.023066461915472385\n"
     ]
    }
   ],
   "source": [
    "tau=30.05/np.log(2)\n",
    "gamma=1/tau\n",
    "print(f\"gamma = {gamma}\")"
   ]
  },
  {
   "cell_type": "code",
   "execution_count": 4,
   "metadata": {},
   "outputs": [],
   "source": [
    "t=np.arange(0,7*tau+1,1)\n",
    "tmed=((t+np.roll(t, shift=1))/2)[1:]\n",
    "\n",
    "def P(t):\n",
    "    return gamma*np.exp(-gamma*t)\n",
    "\n",
    "pdf=np.array([integrate.quad(P,i,i+1)[0] for i in t[:-1]]) #integramos en el dt para obtener la pdf en el tiempo\n",
    "\n",
    "cdf=np.cumsum(pdf) \n",
    "cdf=np.insert(cdf, 0, 0)#encontramos la cdf"
   ]
  },
  {
   "cell_type": "code",
   "execution_count": 5,
   "metadata": {},
   "outputs": [],
   "source": [
    "def simul3(N):\n",
    "    numero_nucleos=N\n",
    "    numero_decaimientosB=[]\n",
    "    tiempos=[]\n",
    "    ti=0\n",
    "    while numero_nucleos > 0:\n",
    "        dec=stats.poisson.rvs(pdf[0]*numero_nucleos,size=1)[0]\n",
    "        tiempos.append(ti)\n",
    "        numero_decaimientosB.append(dec)\n",
    "        ti+=1\n",
    "        numero_nucleos-=dec\n",
    "    return np.array([tiempos,numero_decaimientosB])\n",
    "\n",
    "N=np.array([5.2e8])\n",
    "s3=[]\n",
    "for n in N:\n",
    "    s3.append(simul3(int(n)))   #simulamos para las diferentes cantidades de núcleos"
   ]
  },
  {
   "cell_type": "code",
   "execution_count": 6,
   "metadata": {},
   "outputs": [
    {
     "data": {
      "image/png": "[encoded data removed]",
      "text/plain": [
       "<Figure size 432x288 with 1 Axes>"
      ]
     },
     "metadata": {
      "needs_background": "light"
     },
     "output_type": "display_data"
    }
   ],
   "source": [
    "fig , ax = plt.subplots()  #Graficacion\n",
    "\n",
    "ax.bar(s3[0][0],s3[0][1]/(1*60),color=\"#1AB63C\",label=(\"Simulación binomial\"),width=5) \n",
    "ax.plot(t,N[0]*P(t)/60,color=\"#003E99\")\n",
    "#ax.set_title(f\"Simulación para {N[0]:.1E} núcleos\")\n",
    "ax.set_ylabel(\"Actividad (Bq)\")\n",
    "ax.set_xlabel(\"Años\")\n",
    "##ax.set_yscale(\"log\")\n",
    "ax.grid(linestyle=':')\n",
    "ax.set_xlim(0,50)\n",
    "plt.savefig('poisson.jpg', bbox_inches='tight')"
   ]
  },
  {
   "cell_type": "code",
   "execution_count": 8,
   "metadata": {},
   "outputs": [
    {
     "name": "stdout",
     "output_type": "stream",
     "text": [
      "11años---->156997.28\n",
      "12años---->153368.35\n",
      "13años---->149961.05\n",
      "14años---->146415.05\n",
      "15años---->143042.2\n",
      "16años---->139838.95\n",
      "17años---->136701.85\n",
      "18años---->133523.97\n",
      "19años---->130443.13\n",
      "20años---->127398.03\n",
      "21años---->124583.47\n",
      "22años---->121782.62\n",
      "23años---->118993.78\n",
      "24años---->116173.93\n",
      "25años---->113617.47\n",
      "26años---->111081.28\n",
      "27años---->108431.53\n",
      "28años---->106022.63\n",
      "29años---->103608.05\n",
      "30años---->101333.83\n",
      "31años---->98898.17\n"
     ]
    }
   ],
   "source": [
    "s3[0][1]/(60*1)\n",
    "for i in range(10,31):\n",
    "    print(f\"{i+1}años---->{np.round(s3[0][1][i]/(60*1),2)}\")"
   ]
  },
  {
   "cell_type": "markdown",
   "metadata": {},
   "source": []
  },
  {
   "cell_type": "code",
   "execution_count": 9,
   "metadata": {},
   "outputs": [
    {
     "name": "stdout",
     "output_type": "stream",
     "text": [
      "1años---->197600.08\n",
      "50años---->63871.85\n"
     ]
    }
   ],
   "source": [
    "for i in [0,49]:\n",
    "    print(f\"{i+1}años---->{np.round(s3[0][1][i]/(60*1),2)}\")"
   ]
  },
  {
   "cell_type": "code",
   "execution_count": null,
   "metadata": {},
   "outputs": [],
   "source": []
  }
 ],
 "metadata": {
  "kernelspec": {
   "display_name": "Python 3",
   "language": "python",
   "name": "python3"
  },
  "language_info": {
   "codemirror_mode": {
    "name": "ipython",
    "version": 3
   },
   "file_extension": ".py",
   "mimetype": "text/x-python",
   "name": "python",
   "nbconvert_exporter": "python",
   "pygments_lexer": "ipython3",
   "version": "3.9.1"
  }
 },
 "nbformat": 4,
 "nbformat_minor": 2
}
